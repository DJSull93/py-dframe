{
 "cells": [
  {
   "cell_type": "code",
   "execution_count": 17,
   "metadata": {
    "collapsed": true
   },
   "outputs": [
    {
     "data": {
      "text/plain": "'\\n - (1) pivot(), pd.pivot_table() ***\\n\\n - (2) stack(), unstack() ***\\n\\n - (3) melt() ***\\n\\n - (4) wide_to_long()\\n\\n - (5) pd.crosstab()\\n'"
     },
     "execution_count": 17,
     "metadata": {},
     "output_type": "execute_result"
    }
   ],
   "source": [
    "import pandas as pd\n",
    "import numpy as np\n",
    "import random\n",
    "import string\n",
    "np.random.seed(56)\n",
    "from icecream import ic\n",
    "'''\n",
    " - (1) pivot(), pd.pivot_table() ***\n",
    "\n",
    " - (2) stack(), unstack() ***\n",
    "\n",
    " - (3) melt() ***\n",
    "\n",
    " - (4) wide_to_long()\n",
    "\n",
    " - (5) pd.crosstab()\n",
    "'''"
   ]
  },
  {
   "cell_type": "code",
   "execution_count": 59,
   "outputs": [
    {
     "data": {
      "text/plain": "product_code   com  phone    tv\ncustomer_id                    \njang           NaN    NaN  10.0\nkang           NaN    NaN  30.0\nkim           30.0    NaN   NaN\nlee            NaN   10.0   NaN\npark           NaN    NaN   0.0\nryu            NaN    0.0   NaN\nsong          40.0    NaN   NaN\ntak            0.0    NaN   NaN\nyoon           NaN   15.0   NaN",
      "text/html": "<div>\n<style scoped>\n    .dataframe tbody tr th:only-of-type {\n        vertical-align: middle;\n    }\n\n    .dataframe tbody tr th {\n        vertical-align: top;\n    }\n\n    .dataframe thead th {\n        text-align: right;\n    }\n</style>\n<table border=\"1\" class=\"dataframe\">\n  <thead>\n    <tr style=\"text-align: right;\">\n      <th>product_code</th>\n      <th>com</th>\n      <th>phone</th>\n      <th>tv</th>\n    </tr>\n    <tr>\n      <th>customer_id</th>\n      <th></th>\n      <th></th>\n      <th></th>\n    </tr>\n  </thead>\n  <tbody>\n    <tr>\n      <th>jang</th>\n      <td>NaN</td>\n      <td>NaN</td>\n      <td>10.0</td>\n    </tr>\n    <tr>\n      <th>kang</th>\n      <td>NaN</td>\n      <td>NaN</td>\n      <td>30.0</td>\n    </tr>\n    <tr>\n      <th>kim</th>\n      <td>30.0</td>\n      <td>NaN</td>\n      <td>NaN</td>\n    </tr>\n    <tr>\n      <th>lee</th>\n      <td>NaN</td>\n      <td>10.0</td>\n      <td>NaN</td>\n    </tr>\n    <tr>\n      <th>park</th>\n      <td>NaN</td>\n      <td>NaN</td>\n      <td>0.0</td>\n    </tr>\n    <tr>\n      <th>ryu</th>\n      <td>NaN</td>\n      <td>0.0</td>\n      <td>NaN</td>\n    </tr>\n    <tr>\n      <th>song</th>\n      <td>40.0</td>\n      <td>NaN</td>\n      <td>NaN</td>\n    </tr>\n    <tr>\n      <th>tak</th>\n      <td>0.0</td>\n      <td>NaN</td>\n      <td>NaN</td>\n    </tr>\n    <tr>\n      <th>yoon</th>\n      <td>NaN</td>\n      <td>15.0</td>\n      <td>NaN</td>\n    </tr>\n  </tbody>\n</table>\n</div>"
     },
     "execution_count": 59,
     "metadata": {},
     "output_type": "execute_result"
    }
   ],
   "source": [
    "# 30 다음 객체를 customer_id 를 인덱스로하고 product_code 를 컬럼으로, purchare_amount 를 값으로, 재구성하시오\n",
    "df = pd.DataFrame({\"customer_id\":['kim','lee','park','song','yoon','kang','tak','ryu','jang'],\n",
    "               \"product_code\":['com','phone','tv','com','phone','tv','com','phone','tv'],\n",
    "               \"grade\":['A','A','A','A','A','A','B','B','B'],\n",
    "               \"purchase_amount\":[30,10,0,40,15,30,0,0,10]})\n",
    "ad = pd.pivot(df, index='customer_id', columns='product_code', values='purchase_amount')\n",
    "ad"
   ],
   "metadata": {
    "collapsed": false,
    "pycharm": {
     "name": "#%%\n"
    }
   }
  },
  {
   "cell_type": "code",
   "execution_count": 60,
   "outputs": [
    {
     "data": {
      "text/plain": "product_code        com  phone    tv\ncustomer_id grade                   \njang        B       NaN    NaN  10.0\nkang        A       NaN    NaN  30.0\nkim         A      30.0    NaN   NaN\nlee         A       NaN   10.0   NaN\npark        A       NaN    NaN   0.0\nryu         B       NaN    0.0   NaN\nsong        A      40.0    NaN   NaN\ntak         B       0.0    NaN   NaN\nyoon        A       NaN   15.0   NaN",
      "text/html": "<div>\n<style scoped>\n    .dataframe tbody tr th:only-of-type {\n        vertical-align: middle;\n    }\n\n    .dataframe tbody tr th {\n        vertical-align: top;\n    }\n\n    .dataframe thead th {\n        text-align: right;\n    }\n</style>\n<table border=\"1\" class=\"dataframe\">\n  <thead>\n    <tr style=\"text-align: right;\">\n      <th></th>\n      <th>product_code</th>\n      <th>com</th>\n      <th>phone</th>\n      <th>tv</th>\n    </tr>\n    <tr>\n      <th>customer_id</th>\n      <th>grade</th>\n      <th></th>\n      <th></th>\n      <th></th>\n    </tr>\n  </thead>\n  <tbody>\n    <tr>\n      <th>jang</th>\n      <th>B</th>\n      <td>NaN</td>\n      <td>NaN</td>\n      <td>10.0</td>\n    </tr>\n    <tr>\n      <th>kang</th>\n      <th>A</th>\n      <td>NaN</td>\n      <td>NaN</td>\n      <td>30.0</td>\n    </tr>\n    <tr>\n      <th>kim</th>\n      <th>A</th>\n      <td>30.0</td>\n      <td>NaN</td>\n      <td>NaN</td>\n    </tr>\n    <tr>\n      <th>lee</th>\n      <th>A</th>\n      <td>NaN</td>\n      <td>10.0</td>\n      <td>NaN</td>\n    </tr>\n    <tr>\n      <th>park</th>\n      <th>A</th>\n      <td>NaN</td>\n      <td>NaN</td>\n      <td>0.0</td>\n    </tr>\n    <tr>\n      <th>ryu</th>\n      <th>B</th>\n      <td>NaN</td>\n      <td>0.0</td>\n      <td>NaN</td>\n    </tr>\n    <tr>\n      <th>song</th>\n      <th>A</th>\n      <td>40.0</td>\n      <td>NaN</td>\n      <td>NaN</td>\n    </tr>\n    <tr>\n      <th>tak</th>\n      <th>B</th>\n      <td>0.0</td>\n      <td>NaN</td>\n      <td>NaN</td>\n    </tr>\n    <tr>\n      <th>yoon</th>\n      <th>A</th>\n      <td>NaN</td>\n      <td>15.0</td>\n      <td>NaN</td>\n    </tr>\n  </tbody>\n</table>\n</div>"
     },
     "execution_count": 60,
     "metadata": {},
     "output_type": "execute_result"
    }
   ],
   "source": [
    "# 31 30번 객체를\n",
    "#    customer_id 와 grade 를 인덱스로하고 product_code 를 컬럼으로,\n",
    "#    purchare_amount 를 값으로, 재구성하시오\n",
    "afff = pd.pivot(df, index=['customer_id', 'grade'], columns='product_code', values='purchase_amount')\n",
    "afff"
   ],
   "metadata": {
    "collapsed": false,
    "pycharm": {
     "name": "#%%\n"
    }
   }
  },
  {
   "cell_type": "code",
   "execution_count": 61,
   "outputs": [
    {
     "data": {
      "text/plain": "     com      phone        tv      notebook     \n    2019 2020  2019 2020 2019 2020     2019 2020\nkim    0    4     1    5    2    6        3    7\nlee    8   12     9   13   10   14       11   15",
      "text/html": "<div>\n<style scoped>\n    .dataframe tbody tr th:only-of-type {\n        vertical-align: middle;\n    }\n\n    .dataframe tbody tr th {\n        vertical-align: top;\n    }\n\n    .dataframe thead tr th {\n        text-align: left;\n    }\n</style>\n<table border=\"1\" class=\"dataframe\">\n  <thead>\n    <tr>\n      <th></th>\n      <th colspan=\"2\" halign=\"left\">com</th>\n      <th colspan=\"2\" halign=\"left\">phone</th>\n      <th colspan=\"2\" halign=\"left\">tv</th>\n      <th colspan=\"2\" halign=\"left\">notebook</th>\n    </tr>\n    <tr>\n      <th></th>\n      <th>2019</th>\n      <th>2020</th>\n      <th>2019</th>\n      <th>2020</th>\n      <th>2019</th>\n      <th>2020</th>\n      <th>2019</th>\n      <th>2020</th>\n    </tr>\n  </thead>\n  <tbody>\n    <tr>\n      <th>kim</th>\n      <td>0</td>\n      <td>4</td>\n      <td>1</td>\n      <td>5</td>\n      <td>2</td>\n      <td>6</td>\n      <td>3</td>\n      <td>7</td>\n    </tr>\n    <tr>\n      <th>lee</th>\n      <td>8</td>\n      <td>12</td>\n      <td>9</td>\n      <td>13</td>\n      <td>10</td>\n      <td>14</td>\n      <td>11</td>\n      <td>15</td>\n    </tr>\n  </tbody>\n</table>\n</div>"
     },
     "execution_count": 61,
     "metadata": {},
     "output_type": "execute_result"
    }
   ],
   "source": [
    "# 32\n",
    "'''\n",
    "melt() 는 ID 변수를 기준으로 원래 데이터셋에 있던 여러개의 칼럼 이름을\n",
    "'variable' 칼럼에 위에서 아래로 길게 쌓아놓고,\n",
    "'value' 칼럼에 ID와 variable에 해당하는 값을\n",
    "넣어주는 식으로 데이터를 재구조화\n",
    "'''\n",
    "df = pd.DataFrame(data=np.arange(16).reshape(4, 4), index=pd.MultiIndex.from_tuples([('kim', '2019'), ('kim', '2020'), ('lee', '2019'), ('lee', '2020')]),\n",
    "                  columns=['com', 'phone', 'tv', 'notebook'])\n",
    "\n",
    "df.stack(level=-1, dropna=True)\n",
    "df.unstack(level=-1)"
   ],
   "metadata": {
    "collapsed": false,
    "pycharm": {
     "name": "#%%\n"
    }
   }
  },
  {
   "cell_type": "code",
   "execution_count": 63,
   "outputs": [
    {
     "name": "stderr",
     "output_type": "stream",
     "text": [
      "ic| df:   customer_id product_code  purchase_count  purchase_amount\n",
      "        0         kim          com               1              100\n",
      "        1         kim        phone               2              200\n",
      "        2         lee           tv               3              300\n",
      "        3         lee          tab               4              400\n"
     ]
    },
    {
     "data": {
      "text/plain": "  customer_id product_code  purchase_count  purchase_amount\n0         kim          com               1              100\n1         kim        phone               2              200\n2         lee           tv               3              300\n3         lee          tab               4              400",
      "text/html": "<div>\n<style scoped>\n    .dataframe tbody tr th:only-of-type {\n        vertical-align: middle;\n    }\n\n    .dataframe tbody tr th {\n        vertical-align: top;\n    }\n\n    .dataframe thead th {\n        text-align: right;\n    }\n</style>\n<table border=\"1\" class=\"dataframe\">\n  <thead>\n    <tr style=\"text-align: right;\">\n      <th></th>\n      <th>customer_id</th>\n      <th>product_code</th>\n      <th>purchase_count</th>\n      <th>purchase_amount</th>\n    </tr>\n  </thead>\n  <tbody>\n    <tr>\n      <th>0</th>\n      <td>kim</td>\n      <td>com</td>\n      <td>1</td>\n      <td>100</td>\n    </tr>\n    <tr>\n      <th>1</th>\n      <td>kim</td>\n      <td>phone</td>\n      <td>2</td>\n      <td>200</td>\n    </tr>\n    <tr>\n      <th>2</th>\n      <td>lee</td>\n      <td>tv</td>\n      <td>3</td>\n      <td>300</td>\n    </tr>\n    <tr>\n      <th>3</th>\n      <td>lee</td>\n      <td>tab</td>\n      <td>4</td>\n      <td>400</td>\n    </tr>\n  </tbody>\n</table>\n</div>"
     },
     "execution_count": 63,
     "metadata": {},
     "output_type": "execute_result"
    }
   ],
   "source": [
    "df = pd.DataFrame({\"customer_id\":['kim','kim','lee','lee'],\n",
    "               \"product_code\":['com','phone','tv','tab'],\n",
    "               \"purchase_count\":[1,2,3,4],\n",
    "               \"purchase_amount\":[100,200,300,400]})\n",
    "ic(df)\n"
   ],
   "metadata": {
    "collapsed": false,
    "pycharm": {
     "name": "#%%\n"
    }
   }
  },
  {
   "cell_type": "code",
   "execution_count": 64,
   "outputs": [
    {
     "data": {
      "text/plain": "  customer_id product_code         variable  value\n0         kim          com   purchase_count      1\n1         kim        phone   purchase_count      2\n2         lee           tv   purchase_count      3\n3         lee          tab   purchase_count      4\n4         kim          com  purchase_amount    100\n5         kim        phone  purchase_amount    200\n6         lee           tv  purchase_amount    300\n7         lee          tab  purchase_amount    400",
      "text/html": "<div>\n<style scoped>\n    .dataframe tbody tr th:only-of-type {\n        vertical-align: middle;\n    }\n\n    .dataframe tbody tr th {\n        vertical-align: top;\n    }\n\n    .dataframe thead th {\n        text-align: right;\n    }\n</style>\n<table border=\"1\" class=\"dataframe\">\n  <thead>\n    <tr style=\"text-align: right;\">\n      <th></th>\n      <th>customer_id</th>\n      <th>product_code</th>\n      <th>variable</th>\n      <th>value</th>\n    </tr>\n  </thead>\n  <tbody>\n    <tr>\n      <th>0</th>\n      <td>kim</td>\n      <td>com</td>\n      <td>purchase_count</td>\n      <td>1</td>\n    </tr>\n    <tr>\n      <th>1</th>\n      <td>kim</td>\n      <td>phone</td>\n      <td>purchase_count</td>\n      <td>2</td>\n    </tr>\n    <tr>\n      <th>2</th>\n      <td>lee</td>\n      <td>tv</td>\n      <td>purchase_count</td>\n      <td>3</td>\n    </tr>\n    <tr>\n      <th>3</th>\n      <td>lee</td>\n      <td>tab</td>\n      <td>purchase_count</td>\n      <td>4</td>\n    </tr>\n    <tr>\n      <th>4</th>\n      <td>kim</td>\n      <td>com</td>\n      <td>purchase_amount</td>\n      <td>100</td>\n    </tr>\n    <tr>\n      <th>5</th>\n      <td>kim</td>\n      <td>phone</td>\n      <td>purchase_amount</td>\n      <td>200</td>\n    </tr>\n    <tr>\n      <th>6</th>\n      <td>lee</td>\n      <td>tv</td>\n      <td>purchase_amount</td>\n      <td>300</td>\n    </tr>\n    <tr>\n      <th>7</th>\n      <td>lee</td>\n      <td>tab</td>\n      <td>purchase_amount</td>\n      <td>400</td>\n    </tr>\n  </tbody>\n</table>\n</div>"
     },
     "execution_count": 64,
     "metadata": {},
     "output_type": "execute_result"
    }
   ],
   "source": [
    "# (1) pd.melt(data, id_vars=['id1', 'id2', ...]) 를 사용한 데이터 재구조화\n",
    "pd.melt(df, id_vars=['customer_id', 'product_code'])"
   ],
   "metadata": {
    "collapsed": false,
    "pycharm": {
     "name": "#%%\n"
    }
   }
  },
  {
   "cell_type": "code",
   "execution_count": 67,
   "outputs": [
    {
     "data": {
      "text/plain": "  customer_id product_code           phd_CD  value\n0         kim          com  purchase_amount    100\n1         kim        phone  purchase_amount    200\n2         lee           tv  purchase_amount    300\n3         lee          tab  purchase_amount    400",
      "text/html": "<div>\n<style scoped>\n    .dataframe tbody tr th:only-of-type {\n        vertical-align: middle;\n    }\n\n    .dataframe tbody tr th {\n        vertical-align: top;\n    }\n\n    .dataframe thead th {\n        text-align: right;\n    }\n</style>\n<table border=\"1\" class=\"dataframe\">\n  <thead>\n    <tr style=\"text-align: right;\">\n      <th></th>\n      <th>customer_id</th>\n      <th>product_code</th>\n      <th>phd_CD</th>\n      <th>value</th>\n    </tr>\n  </thead>\n  <tbody>\n    <tr>\n      <th>0</th>\n      <td>kim</td>\n      <td>com</td>\n      <td>purchase_amount</td>\n      <td>100</td>\n    </tr>\n    <tr>\n      <th>1</th>\n      <td>kim</td>\n      <td>phone</td>\n      <td>purchase_amount</td>\n      <td>200</td>\n    </tr>\n    <tr>\n      <th>2</th>\n      <td>lee</td>\n      <td>tv</td>\n      <td>purchase_amount</td>\n      <td>300</td>\n    </tr>\n    <tr>\n      <th>3</th>\n      <td>lee</td>\n      <td>tab</td>\n      <td>purchase_amount</td>\n      <td>400</td>\n    </tr>\n  </tbody>\n</table>\n</div>"
     },
     "execution_count": 67,
     "metadata": {},
     "output_type": "execute_result"
    }
   ],
   "source": [
    "# (2) pd.melt() 의 variable 이름, value 이름 부여하기 : var_name, value_name\n",
    "\n",
    "df.melt(id_vars=['customer_id', 'product_code'], var_name='phd_CD', value_vars='phd_val')"
   ],
   "metadata": {
    "collapsed": false,
    "pycharm": {
     "name": "#%%\n"
    }
   }
  },
  {
   "cell_type": "code",
   "execution_count": 46,
   "outputs": [
    {
     "name": "stderr",
     "output_type": "stream",
     "text": [
      "ic| df:   Class1 Class2 Score1 Score2     value  seq\n",
      "        0      A      D    2.5    3.2  1.331587    0\n",
      "        1      B      E    1.2    1.3  0.715279    1\n",
      "        2      C      F    0.7    0.1 -1.545400    2\n",
      "ic| df:    index Class1 Class2 Score1 Score2     value  seq\n",
      "        0      0      A      D    2.5    3.2  1.331587    0\n",
      "        1      1      B      E    1.2    1.3  0.715279    1\n",
      "        2      2      C      F    0.7    0.1 -1.545400    2\n"
     ]
    },
    {
     "data": {
      "text/plain": "   index Class1 Class2 Score1 Score2     value  seq\n0      0      A      D    2.5    3.2  1.331587    0\n1      1      B      E    1.2    1.3  0.715279    1\n2      2      C      F    0.7    0.1 -1.545400    2",
      "text/html": "<div>\n<style scoped>\n    .dataframe tbody tr th:only-of-type {\n        vertical-align: middle;\n    }\n\n    .dataframe tbody tr th {\n        vertical-align: top;\n    }\n\n    .dataframe thead th {\n        text-align: right;\n    }\n</style>\n<table border=\"1\" class=\"dataframe\">\n  <thead>\n    <tr style=\"text-align: right;\">\n      <th></th>\n      <th>index</th>\n      <th>Class1</th>\n      <th>Class2</th>\n      <th>Score1</th>\n      <th>Score2</th>\n      <th>value</th>\n      <th>seq</th>\n    </tr>\n  </thead>\n  <tbody>\n    <tr>\n      <th>0</th>\n      <td>0</td>\n      <td>A</td>\n      <td>D</td>\n      <td>2.5</td>\n      <td>3.2</td>\n      <td>1.331587</td>\n      <td>0</td>\n    </tr>\n    <tr>\n      <th>1</th>\n      <td>1</td>\n      <td>B</td>\n      <td>E</td>\n      <td>1.2</td>\n      <td>1.3</td>\n      <td>0.715279</td>\n      <td>1</td>\n    </tr>\n    <tr>\n      <th>2</th>\n      <td>2</td>\n      <td>C</td>\n      <td>F</td>\n      <td>0.7</td>\n      <td>0.1</td>\n      <td>-1.545400</td>\n      <td>2</td>\n    </tr>\n  </tbody>\n</table>\n</div>"
     },
     "execution_count": 46,
     "metadata": {},
     "output_type": "execute_result"
    }
   ],
   "source": [
    "np.random.seed(10)\n",
    "df = pd.DataFrame({\"Class1\":{0:\"A\",1:\"B\",2:\"C\"},\n",
    "                  \"Class2\":{0:\"D\",1:\"E\",2:\"F\"},\n",
    "                  \"Score1\":{0:\"2.5\",1:\"1.2\",2:\"0.7\"},\n",
    "                  \"Score2\":{0:\"3.2\",1:\"1.3\",2:\"0.1\"},\n",
    "                   \"value\": dict(zip(range(3),np.random.randn(3)))})\n",
    "df[\"seq\"] = df.index\n",
    "df = df.reset_index()\n",
    "df.rename(columns={'level_0':'customer_id','level_1':'year'}, inplace=True)\n",
    "'''\n",
    "pd.wide_to_long() 함수를 써서 데이터를 재구조화\n",
    "wide_to_long()은 pivot() 이나 stack() 과는 다르게\n",
    "\"칼럼 이름의 앞부분\"과 나머지 \"칼럼 이름의 뒷부분\"을 구분해서,\n",
    "칼럼 이름의 앞부분을 칼럼 이름으로,\n",
    "칼럼 이름의 나머지 뒷부분을 행(row)의 원소로 해서\n",
    "세로로 길게(long~) 쌓아 줍니다.\n",
    "pd.widt_to_long() 함수를 한번 사용해서\n",
    "가로로 넓은 데이터(wide~)를 세로로 길게(long~) 재구조화 하시오.\n",
    "pd.wide_to_long(data, [\"col_prefix_1\", \"col_prefix_2\"], i=\"idx_1\", j=\"idx_2\")\n",
    "'''"
   ],
   "metadata": {
    "collapsed": false,
    "pycharm": {
     "name": "#%%\n"
    }
   }
  },
  {
   "cell_type": "code",
   "execution_count": 88,
   "outputs": [
    {
     "ename": "KeyError",
     "evalue": "\"None of [Index(['seq'], dtype='object')] are in the [columns]\"",
     "output_type": "error",
     "traceback": [
      "\u001B[0;31m---------------------------------------------------------------------------\u001B[0m",
      "\u001B[0;31mKeyError\u001B[0m                                  Traceback (most recent call last)",
      "\u001B[0;32m<ipython-input-88-fa7617766471>\u001B[0m in \u001B[0;36m<module>\u001B[0;34m\u001B[0m\n\u001B[0;32m----> 1\u001B[0;31m \u001B[0mdf\u001B[0m \u001B[0;34m=\u001B[0m \u001B[0mpd\u001B[0m\u001B[0;34m.\u001B[0m\u001B[0mwide_to_long\u001B[0m\u001B[0;34m(\u001B[0m\u001B[0mdf\u001B[0m\u001B[0;34m,\u001B[0m \u001B[0mstubnames\u001B[0m\u001B[0;34m=\u001B[0m\u001B[0;34m[\u001B[0m\u001B[0;34m\"Class\"\u001B[0m\u001B[0;34m,\u001B[0m \u001B[0;34m\"Class\"\u001B[0m\u001B[0;34m]\u001B[0m\u001B[0;34m,\u001B[0m \u001B[0mi\u001B[0m\u001B[0;34m=\u001B[0m\u001B[0;34m'seq'\u001B[0m\u001B[0;34m,\u001B[0m \u001B[0mj\u001B[0m\u001B[0;34m=\u001B[0m\u001B[0;34m't'\u001B[0m\u001B[0;34m,\u001B[0m \u001B[0msep\u001B[0m\u001B[0;34m=\u001B[0m\u001B[0;34m''\u001B[0m\u001B[0;34m)\u001B[0m\u001B[0;34m\u001B[0m\u001B[0;34m\u001B[0m\u001B[0m\n\u001B[0m",
      "\u001B[0;32m~/.conda/envs/drf-docker/lib/python3.8/site-packages/pandas/core/reshape/melt.py\u001B[0m in \u001B[0;36mwide_to_long\u001B[0;34m(df, stubnames, i, j, sep, suffix)\u001B[0m\n\u001B[1;32m    504\u001B[0m         \u001B[0mi\u001B[0m \u001B[0;34m=\u001B[0m \u001B[0mlist\u001B[0m\u001B[0;34m(\u001B[0m\u001B[0mi\u001B[0m\u001B[0;34m)\u001B[0m\u001B[0;34m\u001B[0m\u001B[0;34m\u001B[0m\u001B[0m\n\u001B[1;32m    505\u001B[0m \u001B[0;34m\u001B[0m\u001B[0m\n\u001B[0;32m--> 506\u001B[0;31m     \u001B[0;32mif\u001B[0m \u001B[0mdf\u001B[0m\u001B[0;34m[\u001B[0m\u001B[0mi\u001B[0m\u001B[0;34m]\u001B[0m\u001B[0;34m.\u001B[0m\u001B[0mduplicated\u001B[0m\u001B[0;34m(\u001B[0m\u001B[0;34m)\u001B[0m\u001B[0;34m.\u001B[0m\u001B[0many\u001B[0m\u001B[0;34m(\u001B[0m\u001B[0;34m)\u001B[0m\u001B[0;34m:\u001B[0m\u001B[0;34m\u001B[0m\u001B[0;34m\u001B[0m\u001B[0m\n\u001B[0m\u001B[1;32m    507\u001B[0m         \u001B[0;32mraise\u001B[0m \u001B[0mValueError\u001B[0m\u001B[0;34m(\u001B[0m\u001B[0;34m\"the id variables need to uniquely identify each row\"\u001B[0m\u001B[0;34m)\u001B[0m\u001B[0;34m\u001B[0m\u001B[0;34m\u001B[0m\u001B[0m\n\u001B[1;32m    508\u001B[0m \u001B[0;34m\u001B[0m\u001B[0m\n",
      "\u001B[0;32m~/.conda/envs/drf-docker/lib/python3.8/site-packages/pandas/core/frame.py\u001B[0m in \u001B[0;36m__getitem__\u001B[0;34m(self, key)\u001B[0m\n\u001B[1;32m   3028\u001B[0m             \u001B[0;32mif\u001B[0m \u001B[0mis_iterator\u001B[0m\u001B[0;34m(\u001B[0m\u001B[0mkey\u001B[0m\u001B[0;34m)\u001B[0m\u001B[0;34m:\u001B[0m\u001B[0;34m\u001B[0m\u001B[0;34m\u001B[0m\u001B[0m\n\u001B[1;32m   3029\u001B[0m                 \u001B[0mkey\u001B[0m \u001B[0;34m=\u001B[0m \u001B[0mlist\u001B[0m\u001B[0;34m(\u001B[0m\u001B[0mkey\u001B[0m\u001B[0;34m)\u001B[0m\u001B[0;34m\u001B[0m\u001B[0;34m\u001B[0m\u001B[0m\n\u001B[0;32m-> 3030\u001B[0;31m             \u001B[0mindexer\u001B[0m \u001B[0;34m=\u001B[0m \u001B[0mself\u001B[0m\u001B[0;34m.\u001B[0m\u001B[0mloc\u001B[0m\u001B[0;34m.\u001B[0m\u001B[0m_get_listlike_indexer\u001B[0m\u001B[0;34m(\u001B[0m\u001B[0mkey\u001B[0m\u001B[0;34m,\u001B[0m \u001B[0maxis\u001B[0m\u001B[0;34m=\u001B[0m\u001B[0;36m1\u001B[0m\u001B[0;34m,\u001B[0m \u001B[0mraise_missing\u001B[0m\u001B[0;34m=\u001B[0m\u001B[0;32mTrue\u001B[0m\u001B[0;34m)\u001B[0m\u001B[0;34m[\u001B[0m\u001B[0;36m1\u001B[0m\u001B[0;34m]\u001B[0m\u001B[0;34m\u001B[0m\u001B[0;34m\u001B[0m\u001B[0m\n\u001B[0m\u001B[1;32m   3031\u001B[0m \u001B[0;34m\u001B[0m\u001B[0m\n\u001B[1;32m   3032\u001B[0m         \u001B[0;31m# take() does not accept boolean indexers\u001B[0m\u001B[0;34m\u001B[0m\u001B[0;34m\u001B[0m\u001B[0;34m\u001B[0m\u001B[0m\n",
      "\u001B[0;32m~/.conda/envs/drf-docker/lib/python3.8/site-packages/pandas/core/indexing.py\u001B[0m in \u001B[0;36m_get_listlike_indexer\u001B[0;34m(self, key, axis, raise_missing)\u001B[0m\n\u001B[1;32m   1264\u001B[0m             \u001B[0mkeyarr\u001B[0m\u001B[0;34m,\u001B[0m \u001B[0mindexer\u001B[0m\u001B[0;34m,\u001B[0m \u001B[0mnew_indexer\u001B[0m \u001B[0;34m=\u001B[0m \u001B[0max\u001B[0m\u001B[0;34m.\u001B[0m\u001B[0m_reindex_non_unique\u001B[0m\u001B[0;34m(\u001B[0m\u001B[0mkeyarr\u001B[0m\u001B[0;34m)\u001B[0m\u001B[0;34m\u001B[0m\u001B[0;34m\u001B[0m\u001B[0m\n\u001B[1;32m   1265\u001B[0m \u001B[0;34m\u001B[0m\u001B[0m\n\u001B[0;32m-> 1266\u001B[0;31m         \u001B[0mself\u001B[0m\u001B[0;34m.\u001B[0m\u001B[0m_validate_read_indexer\u001B[0m\u001B[0;34m(\u001B[0m\u001B[0mkeyarr\u001B[0m\u001B[0;34m,\u001B[0m \u001B[0mindexer\u001B[0m\u001B[0;34m,\u001B[0m \u001B[0maxis\u001B[0m\u001B[0;34m,\u001B[0m \u001B[0mraise_missing\u001B[0m\u001B[0;34m=\u001B[0m\u001B[0mraise_missing\u001B[0m\u001B[0;34m)\u001B[0m\u001B[0;34m\u001B[0m\u001B[0;34m\u001B[0m\u001B[0m\n\u001B[0m\u001B[1;32m   1267\u001B[0m         \u001B[0;32mreturn\u001B[0m \u001B[0mkeyarr\u001B[0m\u001B[0;34m,\u001B[0m \u001B[0mindexer\u001B[0m\u001B[0;34m\u001B[0m\u001B[0;34m\u001B[0m\u001B[0m\n\u001B[1;32m   1268\u001B[0m \u001B[0;34m\u001B[0m\u001B[0m\n",
      "\u001B[0;32m~/.conda/envs/drf-docker/lib/python3.8/site-packages/pandas/core/indexing.py\u001B[0m in \u001B[0;36m_validate_read_indexer\u001B[0;34m(self, key, indexer, axis, raise_missing)\u001B[0m\n\u001B[1;32m   1306\u001B[0m             \u001B[0;32mif\u001B[0m \u001B[0mmissing\u001B[0m \u001B[0;34m==\u001B[0m \u001B[0mlen\u001B[0m\u001B[0;34m(\u001B[0m\u001B[0mindexer\u001B[0m\u001B[0;34m)\u001B[0m\u001B[0;34m:\u001B[0m\u001B[0;34m\u001B[0m\u001B[0;34m\u001B[0m\u001B[0m\n\u001B[1;32m   1307\u001B[0m                 \u001B[0maxis_name\u001B[0m \u001B[0;34m=\u001B[0m \u001B[0mself\u001B[0m\u001B[0;34m.\u001B[0m\u001B[0mobj\u001B[0m\u001B[0;34m.\u001B[0m\u001B[0m_get_axis_name\u001B[0m\u001B[0;34m(\u001B[0m\u001B[0maxis\u001B[0m\u001B[0;34m)\u001B[0m\u001B[0;34m\u001B[0m\u001B[0;34m\u001B[0m\u001B[0m\n\u001B[0;32m-> 1308\u001B[0;31m                 \u001B[0;32mraise\u001B[0m \u001B[0mKeyError\u001B[0m\u001B[0;34m(\u001B[0m\u001B[0;34mf\"None of [{key}] are in the [{axis_name}]\"\u001B[0m\u001B[0;34m)\u001B[0m\u001B[0;34m\u001B[0m\u001B[0;34m\u001B[0m\u001B[0m\n\u001B[0m\u001B[1;32m   1309\u001B[0m \u001B[0;34m\u001B[0m\u001B[0m\n\u001B[1;32m   1310\u001B[0m             \u001B[0max\u001B[0m \u001B[0;34m=\u001B[0m \u001B[0mself\u001B[0m\u001B[0;34m.\u001B[0m\u001B[0mobj\u001B[0m\u001B[0;34m.\u001B[0m\u001B[0m_get_axis\u001B[0m\u001B[0;34m(\u001B[0m\u001B[0maxis\u001B[0m\u001B[0;34m)\u001B[0m\u001B[0;34m\u001B[0m\u001B[0;34m\u001B[0m\u001B[0m\n",
      "\u001B[0;31mKeyError\u001B[0m: \"None of [Index(['seq'], dtype='object')] are in the [columns]\""
     ]
    }
   ],
   "source": [
    "df = pd.wide_to_long(df, stubnames=[\"Class\", \"Class\"], i='seq', j='t', sep='')"
   ],
   "metadata": {
    "collapsed": false,
    "pycharm": {
     "name": "#%%\n"
    }
   }
  },
  {
   "cell_type": "code",
   "execution_count": 71,
   "outputs": [
    {
     "name": "stderr",
     "output_type": "stream",
     "text": [
      "ic| df:    학생ID 1학기학점 2학기학점\n",
      "        0   kim     A     D\n",
      "        1   kim     A     D\n",
      "        2   kim     A     D\n",
      "        3   lee     B     C\n",
      "        4   lee     B     C\n",
      "        5  park     B     D\n"
     ]
    },
    {
     "data": {
      "text/plain": "   학생ID 1학기학점 2학기학점\n0   kim     A     D\n1   kim     A     D\n2   kim     A     D\n3   lee     B     C\n4   lee     B     C\n5  park     B     D",
      "text/html": "<div>\n<style scoped>\n    .dataframe tbody tr th:only-of-type {\n        vertical-align: middle;\n    }\n\n    .dataframe tbody tr th {\n        vertical-align: top;\n    }\n\n    .dataframe thead th {\n        text-align: right;\n    }\n</style>\n<table border=\"1\" class=\"dataframe\">\n  <thead>\n    <tr style=\"text-align: right;\">\n      <th></th>\n      <th>학생ID</th>\n      <th>1학기학점</th>\n      <th>2학기학점</th>\n    </tr>\n  </thead>\n  <tbody>\n    <tr>\n      <th>0</th>\n      <td>kim</td>\n      <td>A</td>\n      <td>D</td>\n    </tr>\n    <tr>\n      <th>1</th>\n      <td>kim</td>\n      <td>A</td>\n      <td>D</td>\n    </tr>\n    <tr>\n      <th>2</th>\n      <td>kim</td>\n      <td>A</td>\n      <td>D</td>\n    </tr>\n    <tr>\n      <th>3</th>\n      <td>lee</td>\n      <td>B</td>\n      <td>C</td>\n    </tr>\n    <tr>\n      <th>4</th>\n      <td>lee</td>\n      <td>B</td>\n      <td>C</td>\n    </tr>\n    <tr>\n      <th>5</th>\n      <td>park</td>\n      <td>B</td>\n      <td>D</td>\n    </tr>\n  </tbody>\n</table>\n</div>"
     },
     "execution_count": 71,
     "metadata": {},
     "output_type": "execute_result"
    }
   ],
   "source": [
    "'''\n",
    "pd.crosstab()\n",
    "범주형 변수로 되어있는 요인(factors)별로 교차분석(cross tabulations) 해서,\n",
    "행, 열 요인 기준 별로 빈도를 세어서 도수분포표(frequency table),\n",
    "교차표(contingency table) 를 생성한다\n",
    "\n",
    "# 범주형 변수란 고유한 값이나 범주 수가 제한된 변수(예: 성별 또는 종교)이다.\n",
    "# 교차분석(cross-tabulation analysis)은 '범주형'으로 구성된 자료들 간의 연관관계를 확인하기 위해\n",
    "   교차표를 만들어 관계를 확인하는 분석 방법이다.\n",
    "'''\n",
    "df = pd.DataFrame({\"학생ID\" :[\"kim\",\"kim\",\"kim\",\"lee\",\"lee\",\"park\"],\n",
    "                   \"1학기학점\":[\"A\",\"A\",\"A\",\"B\",\"B\",\"B\"],\n",
    "                   \"2학기학점\":[\"D\",\"D\",\"D\",\"C\",\"C\",\"D\"]})\n",
    "ic(df)"
   ],
   "metadata": {
    "collapsed": false,
    "pycharm": {
     "name": "#%%\n"
    }
   }
  },
  {
   "cell_type": "code",
   "execution_count": 73,
   "outputs": [
    {
     "data": {
      "text/plain": "2학기학점  C  D\n1학기학점      \nA      0  3\nB      2  1",
      "text/html": "<div>\n<style scoped>\n    .dataframe tbody tr th:only-of-type {\n        vertical-align: middle;\n    }\n\n    .dataframe tbody tr th {\n        vertical-align: top;\n    }\n\n    .dataframe thead th {\n        text-align: right;\n    }\n</style>\n<table border=\"1\" class=\"dataframe\">\n  <thead>\n    <tr style=\"text-align: right;\">\n      <th>2학기학점</th>\n      <th>C</th>\n      <th>D</th>\n    </tr>\n    <tr>\n      <th>1학기학점</th>\n      <th></th>\n      <th></th>\n    </tr>\n  </thead>\n  <tbody>\n    <tr>\n      <th>A</th>\n      <td>0</td>\n      <td>3</td>\n    </tr>\n    <tr>\n      <th>B</th>\n      <td>2</td>\n      <td>1</td>\n    </tr>\n  </tbody>\n</table>\n</div>"
     },
     "execution_count": 73,
     "metadata": {},
     "output_type": "execute_result"
    }
   ],
   "source": [
    "pd.crosstab(df['1학기학점'], df['2학기학점'])"
   ],
   "metadata": {
    "collapsed": false,
    "pycharm": {
     "name": "#%% (1) 교차표(contingency table, frequency table) 만들기 : pd.crosstab(index, columns)\n"
    }
   }
  },
  {
   "cell_type": "code",
   "execution_count": 81,
   "outputs": [
    {
     "data": {
      "text/plain": "1학기학점      A  B   \n2학기학점      D  C  D\n학생ID 학생ID         \nkim  kim   3  0  0\nlee  lee   0  2  0\npark park  0  0  1",
      "text/html": "<div>\n<style scoped>\n    .dataframe tbody tr th:only-of-type {\n        vertical-align: middle;\n    }\n\n    .dataframe tbody tr th {\n        vertical-align: top;\n    }\n\n    .dataframe thead tr th {\n        text-align: left;\n    }\n\n    .dataframe thead tr:last-of-type th {\n        text-align: right;\n    }\n</style>\n<table border=\"1\" class=\"dataframe\">\n  <thead>\n    <tr>\n      <th></th>\n      <th>1학기학점</th>\n      <th>A</th>\n      <th colspan=\"2\" halign=\"left\">B</th>\n    </tr>\n    <tr>\n      <th></th>\n      <th>2학기학점</th>\n      <th>D</th>\n      <th>C</th>\n      <th>D</th>\n    </tr>\n    <tr>\n      <th>학생ID</th>\n      <th>학생ID</th>\n      <th></th>\n      <th></th>\n      <th></th>\n    </tr>\n  </thead>\n  <tbody>\n    <tr>\n      <th>kim</th>\n      <th>kim</th>\n      <td>3</td>\n      <td>0</td>\n      <td>0</td>\n    </tr>\n    <tr>\n      <th>lee</th>\n      <th>lee</th>\n      <td>0</td>\n      <td>2</td>\n      <td>0</td>\n    </tr>\n    <tr>\n      <th>park</th>\n      <th>park</th>\n      <td>0</td>\n      <td>0</td>\n      <td>1</td>\n    </tr>\n  </tbody>\n</table>\n</div>"
     },
     "execution_count": 81,
     "metadata": {},
     "output_type": "execute_result"
    }
   ],
   "source": [
    "pd.crosstab([df['학생ID'], df['학생ID']], [df['1학기학점'], df['2학기학점']])"
   ],
   "metadata": {
    "collapsed": false,
    "pycharm": {
     "name": "#%% (2) Multi-index, Multi-level로 교차표 만들기 : pd.crosstab([id1, id2], [col1, col2])\n"
    }
   }
  },
  {
   "cell_type": "code",
   "execution_count": 83,
   "outputs": [
    {
     "data": {
      "text/plain": "aa    A  B   \nbb    D  C  D\naa           \nkim   3  0  0\nlee   0  2  0\npark  0  0  1",
      "text/html": "<div>\n<style scoped>\n    .dataframe tbody tr th:only-of-type {\n        vertical-align: middle;\n    }\n\n    .dataframe tbody tr th {\n        vertical-align: top;\n    }\n\n    .dataframe thead tr th {\n        text-align: left;\n    }\n\n    .dataframe thead tr:last-of-type th {\n        text-align: right;\n    }\n</style>\n<table border=\"1\" class=\"dataframe\">\n  <thead>\n    <tr>\n      <th>aa</th>\n      <th>A</th>\n      <th colspan=\"2\" halign=\"left\">B</th>\n    </tr>\n    <tr>\n      <th>bb</th>\n      <th>D</th>\n      <th>C</th>\n      <th>D</th>\n    </tr>\n    <tr>\n      <th>aa</th>\n      <th></th>\n      <th></th>\n      <th></th>\n    </tr>\n  </thead>\n  <tbody>\n    <tr>\n      <th>kim</th>\n      <td>3</td>\n      <td>0</td>\n      <td>0</td>\n    </tr>\n    <tr>\n      <th>lee</th>\n      <td>0</td>\n      <td>2</td>\n      <td>0</td>\n    </tr>\n    <tr>\n      <th>park</th>\n      <td>0</td>\n      <td>0</td>\n      <td>1</td>\n    </tr>\n  </tbody>\n</table>\n</div>"
     },
     "execution_count": 83,
     "metadata": {},
     "output_type": "execute_result"
    }
   ],
   "source": [
    "pd.crosstab(df['학생ID'], [df['1학기학점'], df['2학기학점']], rownames=['aa'], colnames=['aa', 'bb'])"
   ],
   "metadata": {
    "collapsed": false,
    "pycharm": {
     "name": "#%% (3) 교차표의 행 이름, 열 이름 부여 : pd.crosstab(rownames=['xx'], colnames=['aa'])\n"
    }
   }
  },
  {
   "cell_type": "code",
   "execution_count": 84,
   "outputs": [
    {
     "data": {
      "text/plain": "aa    A  B    All\nbb    D  C  D    \naa               \nkim   3  0  0   3\nlee   0  2  0   2\npark  0  0  1   1\nAll   3  2  1   6",
      "text/html": "<div>\n<style scoped>\n    .dataframe tbody tr th:only-of-type {\n        vertical-align: middle;\n    }\n\n    .dataframe tbody tr th {\n        vertical-align: top;\n    }\n\n    .dataframe thead tr th {\n        text-align: left;\n    }\n\n    .dataframe thead tr:last-of-type th {\n        text-align: right;\n    }\n</style>\n<table border=\"1\" class=\"dataframe\">\n  <thead>\n    <tr>\n      <th>aa</th>\n      <th>A</th>\n      <th colspan=\"2\" halign=\"left\">B</th>\n      <th>All</th>\n    </tr>\n    <tr>\n      <th>bb</th>\n      <th>D</th>\n      <th>C</th>\n      <th>D</th>\n      <th></th>\n    </tr>\n    <tr>\n      <th>aa</th>\n      <th></th>\n      <th></th>\n      <th></th>\n      <th></th>\n    </tr>\n  </thead>\n  <tbody>\n    <tr>\n      <th>kim</th>\n      <td>3</td>\n      <td>0</td>\n      <td>0</td>\n      <td>3</td>\n    </tr>\n    <tr>\n      <th>lee</th>\n      <td>0</td>\n      <td>2</td>\n      <td>0</td>\n      <td>2</td>\n    </tr>\n    <tr>\n      <th>park</th>\n      <td>0</td>\n      <td>0</td>\n      <td>1</td>\n      <td>1</td>\n    </tr>\n    <tr>\n      <th>All</th>\n      <td>3</td>\n      <td>2</td>\n      <td>1</td>\n      <td>6</td>\n    </tr>\n  </tbody>\n</table>\n</div>"
     },
     "execution_count": 84,
     "metadata": {},
     "output_type": "execute_result"
    }
   ],
   "source": [
    "pd.crosstab(df['학생ID'], [df['1학기학점'], df['2학기학점']], rownames=['aa'], colnames=['aa', 'bb'], margins=True)"
   ],
   "metadata": {
    "collapsed": false,
    "pycharm": {
     "name": "#%% (4) 교차표의 행 합, 열 합 추가하기 : pd.crosstab(margins=True)\n"
    }
   }
  },
  {
   "cell_type": "code",
   "execution_count": 85,
   "outputs": [
    {
     "data": {
      "text/plain": "aa      A         B          \nbb      D         C         D\naa                           \nkim   0.5  0.000000  0.000000\nlee   0.0  0.333333  0.000000\npark  0.0  0.000000  0.166667",
      "text/html": "<div>\n<style scoped>\n    .dataframe tbody tr th:only-of-type {\n        vertical-align: middle;\n    }\n\n    .dataframe tbody tr th {\n        vertical-align: top;\n    }\n\n    .dataframe thead tr th {\n        text-align: left;\n    }\n\n    .dataframe thead tr:last-of-type th {\n        text-align: right;\n    }\n</style>\n<table border=\"1\" class=\"dataframe\">\n  <thead>\n    <tr>\n      <th>aa</th>\n      <th>A</th>\n      <th colspan=\"2\" halign=\"left\">B</th>\n    </tr>\n    <tr>\n      <th>bb</th>\n      <th>D</th>\n      <th>C</th>\n      <th>D</th>\n    </tr>\n    <tr>\n      <th>aa</th>\n      <th></th>\n      <th></th>\n      <th></th>\n    </tr>\n  </thead>\n  <tbody>\n    <tr>\n      <th>kim</th>\n      <td>0.5</td>\n      <td>0.000000</td>\n      <td>0.000000</td>\n    </tr>\n    <tr>\n      <th>lee</th>\n      <td>0.0</td>\n      <td>0.333333</td>\n      <td>0.000000</td>\n    </tr>\n    <tr>\n      <th>park</th>\n      <td>0.0</td>\n      <td>0.000000</td>\n      <td>0.166667</td>\n    </tr>\n  </tbody>\n</table>\n</div>"
     },
     "execution_count": 85,
     "metadata": {},
     "output_type": "execute_result"
    }
   ],
   "source": [
    "pd.crosstab(df['학생ID'], [df['1학기학점'], df['2학기학점']], rownames=['aa'], colnames=['aa', 'bb'], normalize=True)"
   ],
   "metadata": {
    "collapsed": false,
    "pycharm": {
     "name": "#%% (5) 구성비율로 교차표 만들기 : pd.crosstab(normalize=True)\n"
    }
   }
  },
  {
   "cell_type": "code",
   "execution_count": null,
   "outputs": [],
   "source": [
    "df = pd.DataFrame({'id': ['id1', 'id1', 'id1', 'id2', 'id2', 'id3'],\n",
    "'fac_1': ['a', 'a', 'a', 'b', 'b', 'b'],\n",
    "'fac_2': ['d', 'd', 'd', 'c', 'c', 'd']})\n",
    "df"
   ],
   "metadata": {
    "collapsed": false,
    "pycharm": {
     "name": "#%%\n"
    }
   }
  },
  {
   "cell_type": "code",
   "execution_count": null,
   "outputs": [],
   "source": [
    "pd.crosstab(df.id, [df.fac_1, df.fac_2])"
   ],
   "metadata": {
    "collapsed": false,
    "pycharm": {
     "name": "#%%\n"
    }
   }
  },
  {
   "cell_type": "code",
   "execution_count": null,
   "outputs": [],
   "source": [
    "pd.crosstab([df.fac_1, df.fac_2], df.id)"
   ],
   "metadata": {
    "collapsed": false,
    "pycharm": {
     "name": "#%%\n"
    }
   }
  },
  {
   "cell_type": "code",
   "execution_count": null,
   "outputs": [],
   "source": [],
   "metadata": {
    "collapsed": false,
    "pycharm": {
     "name": "#%%\n"
    }
   }
  }
 ],
 "metadata": {
  "kernelspec": {
   "display_name": "Python 3",
   "language": "python",
   "name": "python3"
  },
  "language_info": {
   "codemirror_mode": {
    "name": "ipython",
    "version": 2
   },
   "file_extension": ".py",
   "mimetype": "text/x-python",
   "name": "python",
   "nbconvert_exporter": "python",
   "pygments_lexer": "ipython2",
   "version": "2.7.6"
  }
 },
 "nbformat": 4,
 "nbformat_minor": 0
}